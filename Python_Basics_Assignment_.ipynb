{
  "nbformat": 4,
  "nbformat_minor": 0,
  "metadata": {
    "colab": {
      "provenance": []
    },
    "kernelspec": {
      "name": "python3",
      "display_name": "Python 3"
    },
    "language_info": {
      "name": "python"
    }
  },
  "cells": [
    {
      "cell_type": "markdown",
      "source": [
        "**PYTHON BASIC ASSIGNMENT**"
      ],
      "metadata": {
        "id": "VIyFQ688fstx"
      }
    },
    {
      "cell_type": "markdown",
      "source": [
        "1. What is Python, and why is it popular?\n",
        "- Python is a high-level, interpreted programming language known for its simplicity and readability. It is popular because of its clean syntax, versatility, and extensive libraries, making it ideal for web development, data science, automation, artificial intelligence, and more. Python's ease of learning also attracts both beginners and professionals."
      ],
      "metadata": {
        "id": "gKi_1ez9bpei"
      }
    },
    {
      "cell_type": "markdown",
      "source": [
        "2. What is an interpreter in Python?\n",
        "- An interpreter in Python is a program that executes code line by line. It translates Python source code into machine-readable instructions at runtime, allowing immediate execution and debugging.\n",
        "\n"
      ],
      "metadata": {
        "id": "L2ZS-UHhcIbY"
      }
    },
    {
      "cell_type": "markdown",
      "source": [
        "3. What are pre-defined keywords in Python?\n",
        "- Pre-defined keywords in Python are reserved words that have special meanings and functions within the language. Examples include if, else, while, for, class, and def. These cannot be used for variable or function names."
      ],
      "metadata": {
        "id": "tgK5ma_McMN_"
      }
    },
    {
      "cell_type": "markdown",
      "source": [
        "4. Can keywords be used as variable names?\n",
        "- No, keywords cannot be used as variable names in Python because they are reserved for specific purposes within the language's syntax."
      ],
      "metadata": {
        "id": "YRkol9hacVqA"
      }
    },
    {
      "cell_type": "markdown",
      "source": [
        "5. What is mutability in Python?\n",
        "- Mutability in Python refers to whether an object can be changed after it is created. Mutable objects can be altered (e.g., lists), while immutable objects cannot be modified (e.g., tuples, strings).\n",
        "\n"
      ],
      "metadata": {
        "id": "AXIG14nhcbyo"
      }
    },
    {
      "cell_type": "markdown",
      "source": [
        "6. Why are lists mutable, but tuples are immutable?\n",
        "- Lists are mutable because their elements can be changed, added, or removed after creation. Tuples, on the other hand, are immutable to ensure data integrity and enable better performance when handling fixed data structures."
      ],
      "metadata": {
        "id": "dGp_M49bchah"
      }
    },
    {
      "cell_type": "markdown",
      "source": [
        "7. What is the difference between “==” and “is” operators in Python?\n",
        "\n",
        "- == checks if the values of two objects are equal.\n",
        "is checks if two objects refer to the same memory location (i.e., identity).\n",
        "Example:"
      ],
      "metadata": {
        "id": "IHnsrV6xcqC5"
      }
    },
    {
      "cell_type": "code",
      "source": [
        "a = [1, 2, 3]\n",
        "b = [1, 2, 3]\n",
        "print(a == b)  # True (values are equal)\n",
        "print(a is b)  # False (different objects in memory)\n"
      ],
      "metadata": {
        "colab": {
          "base_uri": "https://localhost:8080/"
        },
        "id": "jBXbFXrvcx8C",
        "outputId": "ef36fa0e-39b2-4241-e96d-c104e61daaa2"
      },
      "execution_count": null,
      "outputs": [
        {
          "output_type": "stream",
          "name": "stdout",
          "text": [
            "True\n",
            "False\n"
          ]
        }
      ]
    },
    {
      "cell_type": "markdown",
      "source": [
        "8. What are logical operators in Python?\n",
        "- Logical operators are used to combine conditional statements. Python has three main logical operators:\n",
        "\n",
        "and: Returns True if both conditions are True.\n",
        "or: Returns True if at least one condition is True.\n",
        "not: Reverses the result of a condition.\n",
        "Example:"
      ],
      "metadata": {
        "id": "G3Zb7cTydUv9"
      }
    },
    {
      "cell_type": "code",
      "source": [
        "x = 5\n",
        "y = 10\n",
        "print(x > 0 and y > 0)  # True\n",
        "print(x > 0 or y < 0)   # True\n",
        "print(not (x > 0))      # False\n"
      ],
      "metadata": {
        "id": "nSFYPP6Edu6O"
      },
      "execution_count": null,
      "outputs": []
    },
    {
      "cell_type": "markdown",
      "source": [
        "9. What is type casting in Python?\n",
        "- Type casting refers to converting one data type into another. It can be done explicitly or implicitly."
      ],
      "metadata": {
        "id": "fhqOHUeld7z3"
      }
    },
    {
      "cell_type": "markdown",
      "source": [
        "10. What is the difference between implicit and explicit type casting?\n",
        "\n",
        "- Implicit type casting: Performed automatically by Python when there is no loss of data.\n",
        "Example: x = 5 + 2.5 → x becomes a float (7.5).\n",
        "Explicit type casting: Done manually using functions like int(), float(), or str().\n",
        "Example: x = int(5.7) → x becomes 5.\n"
      ],
      "metadata": {
        "id": "rZS7DiDkeFnY"
      }
    },
    {
      "cell_type": "markdown",
      "source": [
        "11. What is the purpose of conditional statements in Python?\n",
        "- Conditional statements allow the program to make decisions based on specific conditions. They enable control flow using if, elif, and else blocks to execute code based on whether conditions are True or False."
      ],
      "metadata": {
        "id": "pD5nmdNTeXlJ"
      }
    },
    {
      "cell_type": "markdown",
      "source": [
        "12. How does the elif statement work?\n",
        "- The elif statement allows multiple conditions to be checked sequentially after an initial if condition. If the if condition is False, Python checks the elif conditions one by one. If one condition is True, the corresponding block is executed.\n",
        "\n",
        "Example:\n"
      ],
      "metadata": {
        "id": "dGhekVe3esVk"
      }
    },
    {
      "cell_type": "code",
      "source": [
        "x = 10\n",
        "if x > 20:\n",
        "    print(\"x is greater than 20\")\n",
        "elif x > 5:\n",
        "    print(\"x is greater than 5\")  # This will execute\n",
        "else:\n",
        "    print(\"x is 5 or less\")\n"
      ],
      "metadata": {
        "colab": {
          "base_uri": "https://localhost:8080/"
        },
        "id": "Npg0RnTle2sj",
        "outputId": "8c0793f9-6027-407e-acfb-e4a7e9b29966"
      },
      "execution_count": null,
      "outputs": [
        {
          "output_type": "stream",
          "name": "stdout",
          "text": [
            "x is greater than 5\n"
          ]
        }
      ]
    },
    {
      "cell_type": "markdown",
      "source": [
        "13. What is the difference between for and while loops?\n",
        "\n",
        "- For loop: Used for iterating over a sequence (e.g., lists, strings, ranges). It is ideal when the number of iterations is known.\n",
        "While loop: Runs as long as a condition is True. It is used when the number of iterations is unknown."
      ],
      "metadata": {
        "id": "w8i3MHuxe_91"
      }
    },
    {
      "cell_type": "markdown",
      "source": [
        "14. Describe a scenario where a while loop is more suitable than a for loop.\n",
        "- A while loop is better when the number of iterations depends on a condition, not a sequence. For example, repeatedly asking a user for input until they provide a correct value:"
      ],
      "metadata": {
        "id": "Ztzctc8pfFQF"
      }
    },
    {
      "cell_type": "code",
      "source": [
        "password = \"\"\n",
        "while password != \"1234\":\n",
        "    password = input(\"Enter the correct password: \")\n",
        "print(\"Access granted!\")\n",
        "    #Here, the loop runs until the correct password is entered, and the number of iterations is not predetermined."
      ],
      "metadata": {
        "colab": {
          "base_uri": "https://localhost:8080/"
        },
        "id": "lta-SEA6fLk3",
        "outputId": "e5d24228-3a58-4f9e-f2f0-d0571c76a285"
      },
      "execution_count": null,
      "outputs": [
        {
          "output_type": "stream",
          "name": "stdout",
          "text": [
            "Enter the correct password: 1234\n",
            "Access granted!\n"
          ]
        }
      ]
    },
    {
      "cell_type": "markdown",
      "source": [
        "**PRACTICAL QUESTIONS**"
      ],
      "metadata": {
        "id": "FpCOh1-Lbh-U"
      }
    },
    {
      "cell_type": "markdown",
      "source": [
        "1. Print \"Hello, World!\""
      ],
      "metadata": {
        "id": "tr1RWjmQEUW8"
      }
    },
    {
      "cell_type": "code",
      "source": [
        "print(\"Hello, World!\")\n"
      ],
      "metadata": {
        "colab": {
          "base_uri": "https://localhost:8080/"
        },
        "id": "ePzWaJYwEbY1",
        "outputId": "ebf6fc5c-2f40-444c-8fdf-56904ea54528"
      },
      "execution_count": null,
      "outputs": [
        {
          "output_type": "stream",
          "name": "stdout",
          "text": [
            "Hello, World!\n"
          ]
        }
      ]
    },
    {
      "cell_type": "markdown",
      "source": [
        "2. Program to display your name and age"
      ],
      "metadata": {
        "id": "DLW35rZSEol2"
      }
    },
    {
      "cell_type": "code",
      "source": [
        "name = \"Mohd Shakib\"\n",
        "age = 27\n",
        "print(\"My name is:\", name)\n",
        "print(\"My age is:\", age)\n"
      ],
      "metadata": {
        "colab": {
          "base_uri": "https://localhost:8080/"
        },
        "id": "7IScovotFGnp",
        "outputId": "e6e3fe43-b36b-4ed2-be2e-10b91671082f"
      },
      "execution_count": null,
      "outputs": [
        {
          "output_type": "stream",
          "name": "stdout",
          "text": [
            "My name is: Mohd Shakib\n",
            "My age is: 27\n"
          ]
        }
      ]
    },
    {
      "cell_type": "markdown",
      "source": [
        "3. Print all pre-defined keywords using the keyword library"
      ],
      "metadata": {
        "id": "qAMGrZ_aFXX1"
      }
    },
    {
      "cell_type": "code",
      "source": [
        "import keyword\n",
        "print(\"Python keywords are:\")\n",
        "print(keyword.kwlist)\n"
      ],
      "metadata": {
        "colab": {
          "base_uri": "https://localhost:8080/"
        },
        "id": "BkH0T4_dFc11",
        "outputId": "6747f4df-0163-4c1b-9df5-c20f6a3c1707"
      },
      "execution_count": null,
      "outputs": [
        {
          "output_type": "stream",
          "name": "stdout",
          "text": [
            "Python keywords are:\n",
            "['False', 'None', 'True', 'and', 'as', 'assert', 'async', 'await', 'break', 'class', 'continue', 'def', 'del', 'elif', 'else', 'except', 'finally', 'for', 'from', 'global', 'if', 'import', 'in', 'is', 'lambda', 'nonlocal', 'not', 'or', 'pass', 'raise', 'return', 'try', 'while', 'with', 'yield']\n"
          ]
        }
      ]
    },
    {
      "cell_type": "markdown",
      "source": [
        "4. Check if a given word is a Python keyword"
      ],
      "metadata": {
        "id": "NBWdikkVFiR1"
      }
    },
    {
      "cell_type": "code",
      "source": [
        "import keyword\n",
        "\n",
        "word = input(\"Enter a word: \")\n",
        "if keyword.iskeyword(word):\n",
        "    print(f\"'{word}' is a Python keyword.\")\n",
        "else:\n",
        "    print(f\"'{word}' is not a Python keyword.\")\n"
      ],
      "metadata": {
        "colab": {
          "base_uri": "https://localhost:8080/"
        },
        "id": "RbD8zqEHFm0V",
        "outputId": "1caac844-ae28-427a-ef6f-9d95319befe9"
      },
      "execution_count": null,
      "outputs": [
        {
          "output_type": "stream",
          "name": "stdout",
          "text": [
            "Enter a word: True\n",
            "'True' is a Python keyword.\n"
          ]
        }
      ]
    },
    {
      "cell_type": "markdown",
      "source": [
        "5. Demonstrate mutability with a list and immutability with a tuple"
      ],
      "metadata": {
        "id": "lVzgn3MaGS97"
      }
    },
    {
      "cell_type": "code",
      "source": [
        "# List (Mutable)\n",
        "my_list = [1, 2, 3]\n",
        "print(\"Original List:\", my_list)\n",
        "my_list[0] = 100  # Changing the first element\n",
        "print(\"Modified List:\", my_list)\n",
        "\n",
        "# Tuple (Immutable)\n",
        "my_tuple = (1, 2, 3)\n",
        "print(\"Original Tuple:\", my_tuple)\n",
        "try:\n",
        "    my_tuple[0] = 100  # Attempting to change an element\n",
        "except TypeError as e:\n",
        "    print(\"Error:\", e)\n"
      ],
      "metadata": {
        "colab": {
          "base_uri": "https://localhost:8080/"
        },
        "id": "HlYSiMgRGdKG",
        "outputId": "44495b4d-d9c8-487f-8b7e-874d8c44526b"
      },
      "execution_count": null,
      "outputs": [
        {
          "output_type": "stream",
          "name": "stdout",
          "text": [
            "Original List: [1, 2, 3]\n",
            "Modified List: [100, 2, 3]\n",
            "Original Tuple: (1, 2, 3)\n",
            "Error: 'tuple' object does not support item assignment\n"
          ]
        }
      ]
    },
    {
      "cell_type": "markdown",
      "source": [
        "6. Function to demonstrate mutable and immutable arguments"
      ],
      "metadata": {
        "id": "BgSByQz6Guyw"
      }
    },
    {
      "cell_type": "code",
      "source": [
        "def demo_mutable_immutable(arg1, arg2):\n",
        "    print(\"Original List:\", arg1)\n",
        "    print(\"Original Integer:\", arg2)\n",
        "\n",
        "    # Modifying mutable (list)\n",
        "    arg1.append(4)\n",
        "    # Modifying immutable (integer)\n",
        "    arg2 += 5\n",
        "\n",
        "    print(\"Modified List:\", arg1)\n",
        "    print(\"Modified Integer:\", arg2)\n",
        "\n",
        "# Calling the function\n",
        "my_list = [1, 2, 3]\n",
        "my_int = 10\n",
        "demo_mutable_immutable(my_list, my_int)\n",
        "\n",
        "print(\"Outside Function List:\", my_list)  # List reflects change\n",
        "print(\"Outside Function Integer:\", my_int)  # Integer remains unchanged\n"
      ],
      "metadata": {
        "colab": {
          "base_uri": "https://localhost:8080/"
        },
        "id": "u8FFFC5zGv9m",
        "outputId": "33b2401c-e281-42f0-ce1c-70182bfc937f"
      },
      "execution_count": null,
      "outputs": [
        {
          "output_type": "stream",
          "name": "stdout",
          "text": [
            "Original List: [1, 2, 3]\n",
            "Original Integer: 10\n",
            "Modified List: [1, 2, 3, 4]\n",
            "Modified Integer: 15\n",
            "Outside Function List: [1, 2, 3, 4]\n",
            "Outside Function Integer: 10\n"
          ]
        }
      ]
    },
    {
      "cell_type": "markdown",
      "source": [
        "7. Program demonstrating logical operators"
      ],
      "metadata": {
        "id": "ulGd7doBG6ng"
      }
    },
    {
      "cell_type": "code",
      "source": [
        "a = 10\n",
        "b = 20\n",
        "\n",
        "# Logical operators\n",
        "print(\"a > 5 and b > 15:\", a > 5 and b > 15)\n",
        "print(\"a > 5 or b < 15:\", a > 5 or b < 15)\n",
        "print(\"not (a > 5):\", not (a > 5))\n"
      ],
      "metadata": {
        "colab": {
          "base_uri": "https://localhost:8080/"
        },
        "id": "G2Fm7y3IG_EP",
        "outputId": "6a60e40c-a1e4-47dd-85a3-0e48b8cb713e"
      },
      "execution_count": null,
      "outputs": [
        {
          "output_type": "stream",
          "name": "stdout",
          "text": [
            "a > 5 and b > 15: True\n",
            "a > 5 or b < 15: True\n",
            "not (a > 5): False\n"
          ]
        }
      ]
    },
    {
      "cell_type": "markdown",
      "source": [
        "8. Convert user input to integer, float, and boolean types"
      ],
      "metadata": {
        "id": "V6veMS2YHJIK"
      }
    },
    {
      "cell_type": "code",
      "source": [
        "user_input = input(\"Enter a value: \")\n",
        "\n",
        "# Converting to different types\n",
        "integer_value = int(user_input)\n",
        "float_value = float(user_input)\n",
        "boolean_value = bool(int(user_input))  # Boolean of 0 is False, others are True\n",
        "\n",
        "print(\"As Integer:\", integer_value)\n",
        "print(\"As Float:\", float_value)\n",
        "print(\"As Boolean:\", boolean_value)\n"
      ],
      "metadata": {
        "colab": {
          "base_uri": "https://localhost:8080/"
        },
        "id": "p68xeET3HKMx",
        "outputId": "5dda2a87-9513-4586-b9a3-61a555534a0d"
      },
      "execution_count": null,
      "outputs": [
        {
          "output_type": "stream",
          "name": "stdout",
          "text": [
            "Enter a value: 15\n",
            "As Integer: 15\n",
            "As Float: 15.0\n",
            "As Boolean: True\n"
          ]
        }
      ]
    },
    {
      "cell_type": "markdown",
      "source": [
        "9. Type casting with list elements\n",
        "python\n",
        "Copy code\n"
      ],
      "metadata": {
        "id": "LCeZ0-sbHkee"
      }
    },
    {
      "cell_type": "code",
      "source": [
        "my_list = [\"1\", \"2\", \"3\", \"4\"]\n",
        "\n",
        "# Converting string elements to integers\n",
        "int_list = [int(i) for i in my_list]\n",
        "print(\"Integer List:\", int_list)\n",
        "\n",
        "# Converting string elements to floats\n",
        "float_list = [float(i) for i in my_list]\n",
        "print(\"Float List:\", float_list)\n"
      ],
      "metadata": {
        "colab": {
          "base_uri": "https://localhost:8080/"
        },
        "id": "0Y7k85l1HmcU",
        "outputId": "c7865b4a-6a14-47d3-b11a-0eff69f1e7ba"
      },
      "execution_count": null,
      "outputs": [
        {
          "output_type": "stream",
          "name": "stdout",
          "text": [
            "Integer List: [1, 2, 3, 4]\n",
            "Float List: [1.0, 2.0, 3.0, 4.0]\n"
          ]
        }
      ]
    },
    {
      "cell_type": "markdown",
      "source": [
        "10. Check if a number is positive, negative, or zero"
      ],
      "metadata": {
        "id": "027XohkkHzn3"
      }
    },
    {
      "cell_type": "code",
      "source": [
        "num = float(input(\"Enter a number: \"))\n",
        "\n",
        "if num > 0:\n",
        "    print(\"The number is positive.\")\n",
        "elif num < 0:\n",
        "    print(\"The number is negative.\")\n",
        "else:\n",
        "    print(\"The number is zero.\")\n"
      ],
      "metadata": {
        "colab": {
          "base_uri": "https://localhost:8080/"
        },
        "id": "MtWuiUfxH53W",
        "outputId": "cb71316e-7436-4b68-f8fe-9fd23b8e759a"
      },
      "execution_count": null,
      "outputs": [
        {
          "output_type": "stream",
          "name": "stdout",
          "text": [
            "Enter a number: 15\n",
            "The number is positive.\n"
          ]
        }
      ]
    },
    {
      "cell_type": "markdown",
      "source": [
        "11. For loop to print numbers from 1 to 100\n",
        "python\n",
        "Copy code\n"
      ],
      "metadata": {
        "id": "cbrAQ_UhIqME"
      }
    },
    {
      "cell_type": "code",
      "source": [
        "for i in range(1, 101):\n",
        "    print(i, end=\" \")\n"
      ],
      "metadata": {
        "colab": {
          "base_uri": "https://localhost:8080/"
        },
        "id": "kf48hvocItca",
        "outputId": "ac72814d-c27c-41ea-d401-90a60d8d41a1"
      },
      "execution_count": null,
      "outputs": [
        {
          "output_type": "stream",
          "name": "stdout",
          "text": [
            "1 2 3 4 5 6 7 8 9 10 11 12 13 14 15 16 17 18 19 20 21 22 23 24 25 26 27 28 29 30 31 32 33 34 35 36 37 38 39 40 41 42 43 44 45 46 47 48 49 50 51 52 53 54 55 56 57 58 59 60 61 62 63 64 65 66 67 68 69 70 71 72 73 74 75 76 77 78 79 80 81 82 83 84 85 86 87 88 89 90 91 92 93 94 95 96 97 98 99 100 "
          ]
        }
      ]
    },
    {
      "cell_type": "markdown",
      "source": [
        "12. Find the sum of all even numbers between 1 and 500"
      ],
      "metadata": {
        "id": "3QrixEo9I0xz"
      }
    },
    {
      "cell_type": "code",
      "source": [
        "even_sum = 0\n",
        "for i in range(1, 501):\n",
        "    if i % 2 == 0:\n",
        "        even_sum += i\n",
        "\n",
        "print(\"Sum of even numbers between 1 and 500:\", even_sum)\n"
      ],
      "metadata": {
        "colab": {
          "base_uri": "https://localhost:8080/"
        },
        "id": "k0UkXdV_I1wl",
        "outputId": "538578e4-e266-4d7a-9001-6bd3d017e22a"
      },
      "execution_count": null,
      "outputs": [
        {
          "output_type": "stream",
          "name": "stdout",
          "text": [
            "Sum of even numbers between 1 and 500: 62750\n"
          ]
        }
      ]
    },
    {
      "cell_type": "markdown",
      "source": [
        "13. Reverse a string using a while loop"
      ],
      "metadata": {
        "id": "Tiiobb7VJMLO"
      }
    },
    {
      "cell_type": "code",
      "source": [
        "string = input(\"Enter a string: \")\n",
        "reversed_string = \"\"\n",
        "index = len(string) - 1\n",
        "\n",
        "while index >= 0:\n",
        "    reversed_string += string[index]\n",
        "    index -= 1\n",
        "\n",
        "print(\"Reversed String:\", reversed_string)\n"
      ],
      "metadata": {
        "colab": {
          "base_uri": "https://localhost:8080/"
        },
        "id": "gTxGiDDZJPdN",
        "outputId": "141f7c97-5f2c-4467-d74f-7c27487764c6"
      },
      "execution_count": null,
      "outputs": [
        {
          "output_type": "stream",
          "name": "stdout",
          "text": [
            "Enter a string: ajay\n",
            "Reversed String: yaja\n"
          ]
        }
      ]
    },
    {
      "cell_type": "markdown",
      "source": [
        "14. Calculate the factorial of a number using a while loop\n",
        "python\n",
        "Copy code\n"
      ],
      "metadata": {
        "id": "wHinX38KJkCn"
      }
    },
    {
      "cell_type": "code",
      "source": [
        "num = int(input(\"Enter a number to calculate its factorial: \"))\n",
        "factorial = 1\n",
        "i = 1\n",
        "\n",
        "while i <= num:\n",
        "    factorial *= i\n",
        "    i += 1\n",
        "\n",
        "print(f\"The factorial of {num} is: {factorial}\")\n"
      ],
      "metadata": {
        "colab": {
          "base_uri": "https://localhost:8080/"
        },
        "id": "raDD6c1OJlVq",
        "outputId": "9033c35f-4658-49ec-d78f-3f69ec0c2057"
      },
      "execution_count": null,
      "outputs": [
        {
          "output_type": "stream",
          "name": "stdout",
          "text": [
            "Enter a number to calculate its factorial: 42\n",
            "The factorial of 42 is: 1405006117752879898543142606244511569936384000000000\n"
          ]
        }
      ]
    }
  ]
}